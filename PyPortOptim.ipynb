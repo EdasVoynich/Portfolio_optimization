{
 "cells": [
  {
   "cell_type": "code",
   "execution_count": 1,
   "metadata": {},
   "outputs": [],
   "source": [
    "import pandas as pd\n",
    "from matplotlib import pyplot as plt\n",
    "\n",
    "from pypfopt import risk_models\n",
    "from pypfopt import expected_returns\n",
    "from pypfopt import EfficientFrontier\n",
    "\n",
    "from sharp_max import plot_market_values\n",
    "\n",
    "import yfinance as yf"
   ]
  },
  {
   "cell_type": "code",
   "execution_count": 2,
   "metadata": {},
   "outputs": [],
   "source": [
    "sentiment_returns = pd.read_csv('data_final/preds_sentiment.csv', index_col=[0])\n",
    "returns = pd.read_csv('data_final/preds.csv', index_col=[0])\n",
    "real_sentiment_returns = pd.read_csv('data_final/real_sentiment.csv', index_col=[0])\n",
    "real_returns = pd.read_csv('data_final/real.csv', index_col=[0])"
   ]
  },
  {
   "cell_type": "code",
   "execution_count": 3,
   "metadata": {},
   "outputs": [
    {
     "data": {
      "text/plain": [
       "(411, 10)"
      ]
     },
     "execution_count": 3,
     "metadata": {},
     "output_type": "execute_result"
    }
   ],
   "source": [
    "real_returns.shape"
   ]
  },
  {
   "cell_type": "code",
   "execution_count": 10,
   "metadata": {},
   "outputs": [],
   "source": [
    "S_preds = risk_models.CovarianceShrinkage(returns.tail(15)).ledoit_wolf()\n",
    "mu_preds = expected_returns.capm_return(returns.tail(15))\n",
    "\n",
    "S_preds_sent = risk_models.CovarianceShrinkage(sentiment_returns.tail(15)).ledoit_wolf()\n",
    "mu_preds_sent = expected_returns.capm_return(sentiment_returns.tail(15))"
   ]
  },
  {
   "cell_type": "code",
   "execution_count": 11,
   "metadata": {},
   "outputs": [
    {
     "name": "stdout",
     "output_type": "stream",
     "text": [
      "Expected annual return: 22.3%\n",
      "Annual volatility: 17.8%\n",
      "Sharpe Ratio: 1.14\n"
     ]
    }
   ],
   "source": [
    "ef = EfficientFrontier(mu_preds, S_preds, weight_bounds=(-1, 1))\n",
    "ef.max_sharpe()\n",
    "weights = ef.clean_weights()\n",
    "ef.portfolio_performance(verbose=True);"
   ]
  },
  {
   "cell_type": "code",
   "execution_count": 12,
   "metadata": {},
   "outputs": [
    {
     "name": "stdout",
     "output_type": "stream",
     "text": [
      "Expected annual return: 27.1%\n",
      "Annual volatility: 17.8%\n",
      "Sharpe Ratio: 1.41\n"
     ]
    }
   ],
   "source": [
    "ef = EfficientFrontier(mu_preds_sent, S_preds_sent, weight_bounds=(-1, 1))\n",
    "ef.max_sharpe()\n",
    "weights = ef.clean_weights()\n",
    "ef.portfolio_performance(verbose=True);"
   ]
  }
 ],
 "metadata": {
  "kernelspec": {
   "display_name": "anomalib_env",
   "language": "python",
   "name": "python3"
  },
  "language_info": {
   "codemirror_mode": {
    "name": "ipython",
    "version": 3
   },
   "file_extension": ".py",
   "mimetype": "text/x-python",
   "name": "python",
   "nbconvert_exporter": "python",
   "pygments_lexer": "ipython3",
   "version": "3.10.14"
  }
 },
 "nbformat": 4,
 "nbformat_minor": 2
}
