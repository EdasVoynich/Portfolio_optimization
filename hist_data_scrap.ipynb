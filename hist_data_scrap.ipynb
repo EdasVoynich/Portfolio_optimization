{
 "cells": [
  {
   "cell_type": "code",
   "execution_count": 1,
   "metadata": {},
   "outputs": [
    {
     "name": "stderr",
     "output_type": "stream",
     "text": [
      "[*********************100%%**********************]  1 of 1 completed\n",
      "[*********************100%%**********************]  1 of 1 completed\n",
      "[*********************100%%**********************]  1 of 1 completed\n",
      "[*********************100%%**********************]  1 of 1 completed\n",
      "[*********************100%%**********************]  1 of 1 completed\n",
      "[*********************100%%**********************]  1 of 1 completed\n",
      "[*********************100%%**********************]  1 of 1 completed\n",
      "[*********************100%%**********************]  1 of 1 completed\n",
      "[*********************100%%**********************]  1 of 1 completed\n",
      "[*********************100%%**********************]  1 of 1 completed\n"
     ]
    }
   ],
   "source": [
    "import yfinance as yf\n",
    "import os\n",
    "\n",
    "# List of company symbols\n",
    "symbols = [\n",
    "    \"BAJAJ-AUTO.NS\", \"ICICIBANK.NS\", \"BPCL.NS\", \"BAJFINANCE.NS\", \"LT.NS\", \"TCS.NS\", \"ULTRACEMCO.NS\", \"TATASTEEL.NS\", \"DIVISLAB.NS\", \"SUNPHARMA.NS\",\n",
    "]\n",
    "\n",
    "# Specify the directory to save CSV files\n",
    "save_dir = \"data_final/final_stocks\"  # Change this to the directory where you want to save the CSV files\n",
    "\n",
    "# Create the directory if it doesn't exist\n",
    "os.makedirs(save_dir, exist_ok=True)\n",
    "\n",
    "# Download and save data for each symbol\n",
    "for symbol in symbols:\n",
    "    # Fetch historical data for each symbol\n",
    "    data = yf.download(symbol, start=\"2014-04-01\", end=\"2024-04-01\")\n",
    "    \n",
    "    # Define file name by removing \".NS\" from the symbol\n",
    "    file_name = symbol.replace(\".NS\", \"\") + \".csv\"\n",
    "    file_path = os.path.join(save_dir, file_name)\n",
    "    \n",
    "    # Save data to CSV file\n",
    "    data.to_csv(file_path)\n"
   ]
  }
 ],
 "metadata": {
  "kernelspec": {
   "display_name": "anomalib_env",
   "language": "python",
   "name": "python3"
  },
  "language_info": {
   "codemirror_mode": {
    "name": "ipython",
    "version": 3
   },
   "file_extension": ".py",
   "mimetype": "text/x-python",
   "name": "python",
   "nbconvert_exporter": "python",
   "pygments_lexer": "ipython3",
   "version": "3.10.14"
  }
 },
 "nbformat": 4,
 "nbformat_minor": 2
}
